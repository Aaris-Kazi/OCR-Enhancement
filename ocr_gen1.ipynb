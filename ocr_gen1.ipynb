{
 "cells": [
  {
   "cell_type": "code",
   "execution_count": 1,
   "metadata": {},
   "outputs": [],
   "source": [
    "import pytesseract as pt"
   ]
  },
  {
   "cell_type": "code",
   "execution_count": 2,
   "metadata": {},
   "outputs": [],
   "source": [
    "import cv2 as cv"
   ]
  },
  {
   "cell_type": "code",
   "execution_count": 3,
   "metadata": {},
   "outputs": [],
   "source": [
    "img = cv.imread('diab_test.png')"
   ]
  },
  {
   "cell_type": "code",
   "execution_count": 4,
   "metadata": {},
   "outputs": [],
   "source": [
    "p = r'C:\\\\Program Files\\\\Tesseract-OCR\\\\tesseract.exe'"
   ]
  },
  {
   "cell_type": "code",
   "execution_count": 5,
   "metadata": {},
   "outputs": [],
   "source": [
    "custom_config = r'--oem 3 --psm 6'\n",
    "pt.pytesseract.tesseract_cmd = p"
   ]
  },
  {
   "cell_type": "code",
   "execution_count": 6,
   "metadata": {},
   "outputs": [],
   "source": [
    "img = cv.cvtColor(img, cv.COLOR_BGR2GRAY)"
   ]
  },
  {
   "cell_type": "code",
   "execution_count": 7,
   "metadata": {},
   "outputs": [],
   "source": [
    "\n",
    "text =pt.image_to_string(img, config= custom_config)"
   ]
  },
  {
   "cell_type": "code",
   "execution_count": 8,
   "metadata": {},
   "outputs": [
    {
     "data": {
      "text/plain": [
       "'Anjuman College\\nHealth report\\nName: John Doe Gender: Male Age: 50\\nTest Name: Diabetes\\nBio Chemical Test\\nTest Description Result\\nNo. of Pregnancies 6\\nGlucose Level 148\\nBlood Pressure 2\\nSkin Thickness 35\\nInsulin 0\\nBody Mass Index 33.6\\nDiabetes Pedigree 0.627\\n'"
      ]
     },
     "execution_count": 8,
     "metadata": {},
     "output_type": "execute_result"
    }
   ],
   "source": [
    "text"
   ]
  },
  {
   "cell_type": "code",
   "execution_count": 9,
   "metadata": {},
   "outputs": [],
   "source": [
    "x1, x2 =[],[]\n",
    "y1, y2 =[],[]"
   ]
  },
  {
   "cell_type": "code",
   "execution_count": 12,
   "metadata": {},
   "outputs": [],
   "source": [
    "h, w= img.shape\n",
    "\n",
    "boxes = pt.image_to_boxes(img, config=custom_config) \n",
    "for b in boxes.splitlines():\n",
    "    b = b.split(' ')\n",
    "    img = cv.rectangle(img, (int(b[1]), h - int(b[2])), (int(b[3]), h - int(b[4])), (0, 255, 0), 2)\n",
    "    x1.append(int(b[1]))\n",
    "    x2.append(int(b[3]))\n",
    "    y1.append(h - int(b[2]))\n",
    "    y2.append( h - int(b[4]))"
   ]
  },
  {
   "cell_type": "code",
   "execution_count": 13,
   "metadata": {},
   "outputs": [],
   "source": [
    "import matplotlib.pyplot as plt"
   ]
  },
  {
   "cell_type": "code",
   "execution_count": 14,
   "metadata": {},
   "outputs": [
    {
     "data": {
      "text/plain": [
       "<function matplotlib.pyplot.show(close=None, block=None)>"
      ]
     },
     "execution_count": 14,
     "metadata": {},
     "output_type": "execute_result"
    },
    {
     "data": {
      "image/png": "[encoded data removed]",
      "text/plain": [
       "<Figure size 432x288 with 1 Axes>"
      ]
     },
     "metadata": {
      "needs_background": "light"
     },
     "output_type": "display_data"
    }
   ],
   "source": [
    "plt.imshow( img)\n",
    "plt.show"
   ]
  },
  {
   "cell_type": "code",
   "execution_count": 11,
   "metadata": {},
   "outputs": [
    {
     "data": {
      "text/plain": [
       "'A 316 471 319 473 0\\nn 308 471 335 487 0\\nj 331 484 333 486 0\\nu 340 471 343 473 0\\nm 348 471 351 473 0\\na 334 471 373 482 0\\nn 364 471 367 473 0\\nC 377 475 388 486 0\\no 384 472 392 486 0\\nl 389 475 397 482 0\\nl 397 475 412 486 0\\ne 406 472 414 486 0\\ng 413 472 421 482 0\\ne 421 475 428 482 0\\nH 321 456 328 467 0\\ne 321 456 334 467 0\\na 337 456 346 467 0\\nl 334 456 367 467 0\\nt 353 456 359 467 0\\nh 358 456 364 467 0\\nr 371 453 380 466 0\\ne 379 453 385 466 0\\np 371 453 402 463 0\\no 391 453 400 466 0\\nr 402 456 409 463 0\\nt 410 456 416 466 0\\nN 47 401 59 412 0\\na 58 401 66 408 0\\nm 67 401 80 408 0\\ne 80 401 87 408 0\\n: 88 401 91 408 0\\nJ 96 401 103 412 0\\no 102 401 110 408 0\\nh 110 401 126 412 0\\nn 120 401 126 412 0\\nD 130 401 141 412 0\\no 142 401 157 408 0\\ne 151 401 157 412 0\\nG 189 401 201 412 0\\ne 189 401 217 412 0\\nn 208 401 217 412 0\\nd 217 401 226 412 0\\ne 223 401 232 412 0\\nr 226 401 240 408 0\\n: 241 401 244 408 0\\nM 249 401 263 412 0\\na 260 401 268 412 0\\nl 264 401 282 412 0\\ne 275 401 282 412 0\\nA 330 398 339 412 0\\ng 330 398 350 412 0\\ne 350 401 357 408 0\\n: 358 401 361 408 0\\n5 366 401 373 412 0\\n0 374 401 382 412 0\\nT 47 364 58 375 0\\ne 53 364 62 375 0\\ns 56 364 75 374 0\\nt 68 364 75 375 0\\nN 79 364 91 375 0\\na 92 364 100 375 0\\nm 90 364 111 371 0\\ne 111 364 118 371 0\\n: 120 364 123 371 0\\nD 128 364 139 375 0\\ni 136 364 144 375 0\\na 143 364 152 375 0\\nb 151 364 157 375 0\\ne 140 364 177 375 0\\nt 164 364 170 375 0\\ne 169 364 178 375 0\\ns 178 364 184 371 0\\nB 306 327 316 338 0\\ni 312 327 321 338 0\\no 317 327 329 338 0\\nC 333 327 344 338 0\\nh 345 327 354 338 0\\ne 353 327 362 338 0\\nm 354 327 379 338 0\\ni 369 327 377 338 0\\nc 376 327 385 338 0\\na 384 327 390 338 0\\nl 379 327 399 338 0\\nT 402 327 413 338 0\\ne 411 327 424 334 0\\ns 418 327 424 338 0\\nt 425 327 431 337 0\\nT 47 291 58 302 0\\ne 53 291 62 302 0\\ns 56 291 75 301 0\\nt 68 291 75 302 0\\nD 81 288 90 302 0\\ne 89 288 95 302 0\\ns 79 291 110 302 0\\nc 102 288 111 302 0\\nr 110 288 116 302 0\\ni 111 288 131 302 0\\np 123 288 129 302 0\\nt 128 288 137 302 0\\ni 131 291 141 302 0\\no 141 291 149 298 0\\nn 149 291 158 298 0\\nR 330 291 337 302 0\\ne 330 291 342 302 0\\ns 346 291 355 302 0\\nu 342 291 369 302 0\\nl 362 291 368 302 0\\nt 369 291 375 301 0\\nN 47 254 54 265 0\\no 47 254 59 265 0\\n. 58 254 70 261 0\\no 74 254 82 261 0\\nf 82 254 89 265 0\\nP 94 251 103 265 0\\nr 102 251 111 265 0\\ne 110 251 116 265 0\\ng 92 251 149 265 0\\nn 123 251 131 265 0\\na 130 251 139 265 0\\nn 138 251 147 265 0\\nc 146 251 155 265 0\\ni 149 254 161 265 0\\ne 161 251 168 265 0\\ns 161 254 174 261 0\\n6 330 254 338 265 0\\nG 47 217 56 228 0\\nl 47 217 72 228 0\\nu 63 217 72 228 0\\nc 72 217 79 224 0\\no 79 217 87 228 0\\ns 80 217 101 224 0\\ne 94 217 100 228 0\\nL 107 217 116 228 0\\ne 105 217 131 228 0\\nv 123 217 131 228 0\\ne 130 217 137 228 0\\nl 131 217 143 228 0\\n1 331 217 337 228 0\\n4 337 217 346 228 0\\ns 338 217 354 228 0\\nB 47 180 57 191 0\\nl 53 180 62 191 0\\no 61 180 69 191 0\\no 58 180 87 191 0\\nd 76 180 85 191 0\\nP 92 180 100 191 0\\nr 91 180 114 191 0\\ne 107 180 116 191 0\\ns 115 180 121 191 0\\ns 120 180 129 191 0\\nu 115 180 150 187 0\\nr 136 180 144 191 0\\ne 143 180 150 191 0\\n2 330 180 345 191 0\\n‘ 47 143 49 154 0\\nS 47 143 56 154 0\\nk 55 143 64 154 0\\ni 56 143 78 154 0\\nn 71 143 77 154 0\\nT 84 143 93 154 0\\nh 82 143 106 154 0\\ni 99 143 108 154 0\\nc 107 143 116 154 0\\nk 106 143 131 154 0\\nn 120 143 129 154 0\\ne 128 143 137 154 0\\ns 131 143 150 150 0\\ns 143 143 150 154 0\\n3 330 143 338 154 0\\n5 338 143 346 154 0\\nI 43 97 54 128 0\\nn 53 97 62 128 0\\ns 61 97 67 128 0\\nu 47 107 95 118 0\\nl 74 97 82 128 0\\ni 81 97 87 128 0\\nn 86 97 98 128 0\\n0 330 107 338 118 0\\nB 47 70 57 81 0\\no 53 67 64 81 0\\nd 58 70 74 81 0\\ny 74 67 82 77 0\\nM 86 70 98 81 0\\na 86 70 115 81 0\\ns 105 70 113 81 0\\ns 116 70 122 77 0\\nI 126 70 134 81 0\\nn 126 70 141 81 0\\nd 141 70 150 81 0\\ne 148 70 157 81 0\\nx 150 70 165 77 0\\n3 330 70 338 81 0\\n3 338 70 346 81 0\\n. 346 70 350 72 0\\n6 350 70 358 81 0\\nD 47 33 58 44 0\\ni 53 33 62 44 0\\na 59 33 71 44 0\\nb 68 33 77 44 0\\ne 76 33 85 44 0\\nt 71 33 105 44 0\\ne 92 33 98 44 0\\ns 97 33 105 44 0\\nP 109 33 119 44 0\\ne 117 30 126 44 0\\nd 125 30 134 44 0\\ni 119 30 161 44 0\\ng 141 30 147 44 0\\nr 146 30 155 44 0\\ne 154 30 162 44 0\\ne 162 33 169 40 0\\n0 330 33 338 44 0\\n. 338 33 342 35 0\\n6 342 33 350 44 0\\n2 350 33 357 44 0\\n7 358 33 366 44 0\\n'"
      ]
     },
     "execution_count": 11,
     "metadata": {},
     "output_type": "execute_result"
    }
   ],
   "source": [
    "boxes"
   ]
  },
  {
   "cell_type": "code",
   "execution_count": 13,
   "metadata": {},
   "outputs": [
    {
     "data": {
      "text/plain": [
       "' '"
      ]
     },
     "execution_count": 13,
     "metadata": {},
     "output_type": "execute_result"
    }
   ],
   "source": [
    "boxes[1]"
   ]
  },
  {
   "cell_type": "code",
   "execution_count": 15,
   "metadata": {},
   "outputs": [],
   "source": [
    "import pandas as pd"
   ]
  },
  {
   "cell_type": "code",
   "execution_count": 16,
   "metadata": {},
   "outputs": [],
   "source": [
    "df = pd.DataFrame({\n",
    "    \"X1\":x1,\n",
    "    \"Y1\":y1,\n",
    "    \"X2\":x2,\n",
    "    \"Y2\":y2,\n",
    "})"
   ]
  },
  {
   "cell_type": "code",
   "execution_count": 21,
   "metadata": {},
   "outputs": [],
   "source": [
    "df.to_csv('vis_box1.csv')"
   ]
  },
  {
   "cell_type": "code",
   "execution_count": null,
   "metadata": {},
   "outputs": [],
   "source": []
  }
 ],
 "metadata": {
  "interpreter": {
   "hash": "0905a9d49d7a4d1509eaa3d2f777c7fa50e2b766855be97027a1d26056e5020a"
  },
  "kernelspec": {
   "display_name": "Python 3.9.5 64-bit",
   "language": "python",
   "name": "python3"
  },
  "language_info": {
   "codemirror_mode": {
    "name": "ipython",
    "version": 3
   },
   "file_extension": ".py",
   "mimetype": "text/x-python",
   "name": "python",
   "nbconvert_exporter": "python",
   "pygments_lexer": "ipython3",
   "version": "3.9.5"
  },
  "orig_nbformat": 4
 },
 "nbformat": 4,
 "nbformat_minor": 2
}
